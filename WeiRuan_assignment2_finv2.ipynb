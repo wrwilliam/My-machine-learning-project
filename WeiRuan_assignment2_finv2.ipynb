{
  "cells": [
    {
      "cell_type": "markdown",
      "metadata": {
        "id": "view-in-github",
        "colab_type": "text"
      },
      "source": [
        "<a href=\"https://colab.research.google.com/github/wrwilliam/My-machine-learning-project/blob/main/WeiRuan_assignment2_finv2.ipynb\" target=\"_parent\"><img src=\"https://colab.research.google.com/assets/colab-badge.svg\" alt=\"Open In Colab\"/></a>"
      ]
    },
    {
      "cell_type": "markdown",
      "id": "69b125e3",
      "metadata": {
        "id": "69b125e3"
      },
      "source": [
        "## Assignment 2\n",
        "# Wei Ruan     001532991 \n"
      ]
    },
    {
      "cell_type": "markdown",
      "id": "f0a5490e",
      "metadata": {
        "id": "f0a5490e"
      },
      "source": [
        "**Requirements**\n",
        "\n",
        "Implement a single neuron neural network, aka, the logistic regression unit. Use Log Loss Function, write code to carry out stochastic gradient descent (SGD) for optimization, and then write a different activation function i.e., replace the sigmoid non-linearity by ReLu or tan. Ideally, implement as a set of functions*."
      ]
    },
    {
      "cell_type": "markdown",
      "id": "057f5770",
      "metadata": {
        "id": "057f5770"
      },
      "source": [
        "Imports library"
      ]
    },
    {
      "cell_type": "code",
      "execution_count": 2,
      "id": "spoken-hybrid",
      "metadata": {
        "id": "spoken-hybrid"
      },
      "outputs": [],
      "source": [
        "import pandas as pd\n",
        "import numpy as np\n",
        "import matplotlib.pyplot as plt\n",
        "import seaborn as sns"
      ]
    },
    {
      "cell_type": "markdown",
      "id": "a8cbfcbe",
      "metadata": {
        "id": "a8cbfcbe"
      },
      "source": [
        "**Data input**\n",
        "\n"
      ]
    },
    {
      "cell_type": "code",
      "execution_count": 3,
      "id": "dangerous-remedy",
      "metadata": {
        "id": "dangerous-remedy"
      },
      "outputs": [],
      "source": [
        "#Import dataset from my github repo\n",
        "url='https://raw.githubusercontent.com/wrwilliam/My-Projects/main/diabetes.csv'\n",
        "data=pd.read_csv(url,encoding=\"unicode_escape\")\n"
      ]
    },
    {
      "cell_type": "code",
      "execution_count": 4,
      "id": "shared-harvest",
      "metadata": {
        "colab": {
          "base_uri": "https://localhost:8080/",
          "height": 206
        },
        "id": "shared-harvest",
        "outputId": "a5f624d8-2c6c-4867-843d-0a4c9daaa0de"
      },
      "outputs": [
        {
          "output_type": "execute_result",
          "data": {
            "text/plain": [
              "   Pregnancies  Glucose  BloodPressure  SkinThickness  Insulin   BMI  \\\n",
              "0            6      148             72             35        0  33.6   \n",
              "1            1       85             66             29        0  26.6   \n",
              "2            8      183             64              0        0  23.3   \n",
              "3            1       89             66             23       94  28.1   \n",
              "4            0      137             40             35      168  43.1   \n",
              "\n",
              "   DiabetesPedigreeFunction  Age  Outcome  \n",
              "0                     0.627   50        1  \n",
              "1                     0.351   31        0  \n",
              "2                     0.672   32        1  \n",
              "3                     0.167   21        0  \n",
              "4                     2.288   33        1  "
            ],
            "text/html": [
              "\n",
              "  <div id=\"df-d1308cb0-7802-42d3-8d50-cdefd0d6cb47\">\n",
              "    <div class=\"colab-df-container\">\n",
              "      <div>\n",
              "<style scoped>\n",
              "    .dataframe tbody tr th:only-of-type {\n",
              "        vertical-align: middle;\n",
              "    }\n",
              "\n",
              "    .dataframe tbody tr th {\n",
              "        vertical-align: top;\n",
              "    }\n",
              "\n",
              "    .dataframe thead th {\n",
              "        text-align: right;\n",
              "    }\n",
              "</style>\n",
              "<table border=\"1\" class=\"dataframe\">\n",
              "  <thead>\n",
              "    <tr style=\"text-align: right;\">\n",
              "      <th></th>\n",
              "      <th>Pregnancies</th>\n",
              "      <th>Glucose</th>\n",
              "      <th>BloodPressure</th>\n",
              "      <th>SkinThickness</th>\n",
              "      <th>Insulin</th>\n",
              "      <th>BMI</th>\n",
              "      <th>DiabetesPedigreeFunction</th>\n",
              "      <th>Age</th>\n",
              "      <th>Outcome</th>\n",
              "    </tr>\n",
              "  </thead>\n",
              "  <tbody>\n",
              "    <tr>\n",
              "      <th>0</th>\n",
              "      <td>6</td>\n",
              "      <td>148</td>\n",
              "      <td>72</td>\n",
              "      <td>35</td>\n",
              "      <td>0</td>\n",
              "      <td>33.6</td>\n",
              "      <td>0.627</td>\n",
              "      <td>50</td>\n",
              "      <td>1</td>\n",
              "    </tr>\n",
              "    <tr>\n",
              "      <th>1</th>\n",
              "      <td>1</td>\n",
              "      <td>85</td>\n",
              "      <td>66</td>\n",
              "      <td>29</td>\n",
              "      <td>0</td>\n",
              "      <td>26.6</td>\n",
              "      <td>0.351</td>\n",
              "      <td>31</td>\n",
              "      <td>0</td>\n",
              "    </tr>\n",
              "    <tr>\n",
              "      <th>2</th>\n",
              "      <td>8</td>\n",
              "      <td>183</td>\n",
              "      <td>64</td>\n",
              "      <td>0</td>\n",
              "      <td>0</td>\n",
              "      <td>23.3</td>\n",
              "      <td>0.672</td>\n",
              "      <td>32</td>\n",
              "      <td>1</td>\n",
              "    </tr>\n",
              "    <tr>\n",
              "      <th>3</th>\n",
              "      <td>1</td>\n",
              "      <td>89</td>\n",
              "      <td>66</td>\n",
              "      <td>23</td>\n",
              "      <td>94</td>\n",
              "      <td>28.1</td>\n",
              "      <td>0.167</td>\n",
              "      <td>21</td>\n",
              "      <td>0</td>\n",
              "    </tr>\n",
              "    <tr>\n",
              "      <th>4</th>\n",
              "      <td>0</td>\n",
              "      <td>137</td>\n",
              "      <td>40</td>\n",
              "      <td>35</td>\n",
              "      <td>168</td>\n",
              "      <td>43.1</td>\n",
              "      <td>2.288</td>\n",
              "      <td>33</td>\n",
              "      <td>1</td>\n",
              "    </tr>\n",
              "  </tbody>\n",
              "</table>\n",
              "</div>\n",
              "      <button class=\"colab-df-convert\" onclick=\"convertToInteractive('df-d1308cb0-7802-42d3-8d50-cdefd0d6cb47')\"\n",
              "              title=\"Convert this dataframe to an interactive table.\"\n",
              "              style=\"display:none;\">\n",
              "        \n",
              "  <svg xmlns=\"http://www.w3.org/2000/svg\" height=\"24px\"viewBox=\"0 0 24 24\"\n",
              "       width=\"24px\">\n",
              "    <path d=\"M0 0h24v24H0V0z\" fill=\"none\"/>\n",
              "    <path d=\"M18.56 5.44l.94 2.06.94-2.06 2.06-.94-2.06-.94-.94-2.06-.94 2.06-2.06.94zm-11 1L8.5 8.5l.94-2.06 2.06-.94-2.06-.94L8.5 2.5l-.94 2.06-2.06.94zm10 10l.94 2.06.94-2.06 2.06-.94-2.06-.94-.94-2.06-.94 2.06-2.06.94z\"/><path d=\"M17.41 7.96l-1.37-1.37c-.4-.4-.92-.59-1.43-.59-.52 0-1.04.2-1.43.59L10.3 9.45l-7.72 7.72c-.78.78-.78 2.05 0 2.83L4 21.41c.39.39.9.59 1.41.59.51 0 1.02-.2 1.41-.59l7.78-7.78 2.81-2.81c.8-.78.8-2.07 0-2.86zM5.41 20L4 18.59l7.72-7.72 1.47 1.35L5.41 20z\"/>\n",
              "  </svg>\n",
              "      </button>\n",
              "      \n",
              "  <style>\n",
              "    .colab-df-container {\n",
              "      display:flex;\n",
              "      flex-wrap:wrap;\n",
              "      gap: 12px;\n",
              "    }\n",
              "\n",
              "    .colab-df-convert {\n",
              "      background-color: #E8F0FE;\n",
              "      border: none;\n",
              "      border-radius: 50%;\n",
              "      cursor: pointer;\n",
              "      display: none;\n",
              "      fill: #1967D2;\n",
              "      height: 32px;\n",
              "      padding: 0 0 0 0;\n",
              "      width: 32px;\n",
              "    }\n",
              "\n",
              "    .colab-df-convert:hover {\n",
              "      background-color: #E2EBFA;\n",
              "      box-shadow: 0px 1px 2px rgba(60, 64, 67, 0.3), 0px 1px 3px 1px rgba(60, 64, 67, 0.15);\n",
              "      fill: #174EA6;\n",
              "    }\n",
              "\n",
              "    [theme=dark] .colab-df-convert {\n",
              "      background-color: #3B4455;\n",
              "      fill: #D2E3FC;\n",
              "    }\n",
              "\n",
              "    [theme=dark] .colab-df-convert:hover {\n",
              "      background-color: #434B5C;\n",
              "      box-shadow: 0px 1px 3px 1px rgba(0, 0, 0, 0.15);\n",
              "      filter: drop-shadow(0px 1px 2px rgba(0, 0, 0, 0.3));\n",
              "      fill: #FFFFFF;\n",
              "    }\n",
              "  </style>\n",
              "\n",
              "      <script>\n",
              "        const buttonEl =\n",
              "          document.querySelector('#df-d1308cb0-7802-42d3-8d50-cdefd0d6cb47 button.colab-df-convert');\n",
              "        buttonEl.style.display =\n",
              "          google.colab.kernel.accessAllowed ? 'block' : 'none';\n",
              "\n",
              "        async function convertToInteractive(key) {\n",
              "          const element = document.querySelector('#df-d1308cb0-7802-42d3-8d50-cdefd0d6cb47');\n",
              "          const dataTable =\n",
              "            await google.colab.kernel.invokeFunction('convertToInteractive',\n",
              "                                                     [key], {});\n",
              "          if (!dataTable) return;\n",
              "\n",
              "          const docLinkHtml = 'Like what you see? Visit the ' +\n",
              "            '<a target=\"_blank\" href=https://colab.research.google.com/notebooks/data_table.ipynb>data table notebook</a>'\n",
              "            + ' to learn more about interactive tables.';\n",
              "          element.innerHTML = '';\n",
              "          dataTable['output_type'] = 'display_data';\n",
              "          await google.colab.output.renderOutput(dataTable, element);\n",
              "          const docLink = document.createElement('div');\n",
              "          docLink.innerHTML = docLinkHtml;\n",
              "          element.appendChild(docLink);\n",
              "        }\n",
              "      </script>\n",
              "    </div>\n",
              "  </div>\n",
              "  "
            ]
          },
          "metadata": {},
          "execution_count": 4
        }
      ],
      "source": [
        "data.head(5)"
      ]
    },
    {
      "cell_type": "code",
      "execution_count": 5,
      "id": "AJKMazJRbEEn",
      "metadata": {
        "colab": {
          "base_uri": "https://localhost:8080/"
        },
        "id": "AJKMazJRbEEn",
        "outputId": "ff9dc666-99c9-43f5-fe2f-df20bd31d57d"
      },
      "outputs": [
        {
          "output_type": "execute_result",
          "data": {
            "text/plain": [
              "(768, 9)"
            ]
          },
          "metadata": {},
          "execution_count": 5
        }
      ],
      "source": [
        "data.shape"
      ]
    },
    {
      "cell_type": "code",
      "execution_count": 6,
      "id": "NjodxWRvbEI3",
      "metadata": {
        "colab": {
          "base_uri": "https://localhost:8080/"
        },
        "id": "NjodxWRvbEI3",
        "outputId": "45cd1f2d-4562-4b2b-aef2-2dfe1e3cbc70"
      },
      "outputs": [
        {
          "output_type": "stream",
          "name": "stdout",
          "text": [
            "<class 'pandas.core.frame.DataFrame'>\n",
            "RangeIndex: 768 entries, 0 to 767\n",
            "Data columns (total 9 columns):\n",
            " #   Column                    Non-Null Count  Dtype  \n",
            "---  ------                    --------------  -----  \n",
            " 0   Pregnancies               768 non-null    int64  \n",
            " 1   Glucose                   768 non-null    int64  \n",
            " 2   BloodPressure             768 non-null    int64  \n",
            " 3   SkinThickness             768 non-null    int64  \n",
            " 4   Insulin                   768 non-null    int64  \n",
            " 5   BMI                       768 non-null    float64\n",
            " 6   DiabetesPedigreeFunction  768 non-null    float64\n",
            " 7   Age                       768 non-null    int64  \n",
            " 8   Outcome                   768 non-null    int64  \n",
            "dtypes: float64(2), int64(7)\n",
            "memory usage: 54.1 KB\n"
          ]
        }
      ],
      "source": [
        "data.info()"
      ]
    },
    {
      "cell_type": "code",
      "execution_count": 7,
      "id": "chq36FRcbOjH",
      "metadata": {
        "colab": {
          "base_uri": "https://localhost:8080/",
          "height": 332
        },
        "id": "chq36FRcbOjH",
        "outputId": "2e69449f-2bf4-4530-c7ae-262c1e17e6c3"
      },
      "outputs": [
        {
          "output_type": "execute_result",
          "data": {
            "text/plain": [
              "                          count        mean         std     min       25%  \\\n",
              "Pregnancies               768.0    3.845052    3.369578   0.000   1.00000   \n",
              "Glucose                   768.0  120.894531   31.972618   0.000  99.00000   \n",
              "BloodPressure             768.0   69.105469   19.355807   0.000  62.00000   \n",
              "SkinThickness             768.0   20.536458   15.952218   0.000   0.00000   \n",
              "Insulin                   768.0   79.799479  115.244002   0.000   0.00000   \n",
              "BMI                       768.0   31.992578    7.884160   0.000  27.30000   \n",
              "DiabetesPedigreeFunction  768.0    0.471876    0.331329   0.078   0.24375   \n",
              "Age                       768.0   33.240885   11.760232  21.000  24.00000   \n",
              "Outcome                   768.0    0.348958    0.476951   0.000   0.00000   \n",
              "\n",
              "                               50%        75%     max  \n",
              "Pregnancies                 3.0000    6.00000   17.00  \n",
              "Glucose                   117.0000  140.25000  199.00  \n",
              "BloodPressure              72.0000   80.00000  122.00  \n",
              "SkinThickness              23.0000   32.00000   99.00  \n",
              "Insulin                    30.5000  127.25000  846.00  \n",
              "BMI                        32.0000   36.60000   67.10  \n",
              "DiabetesPedigreeFunction    0.3725    0.62625    2.42  \n",
              "Age                        29.0000   41.00000   81.00  \n",
              "Outcome                     0.0000    1.00000    1.00  "
            ],
            "text/html": [
              "\n",
              "  <div id=\"df-1bf55a44-8017-4f5a-8739-aee33cb4abaa\">\n",
              "    <div class=\"colab-df-container\">\n",
              "      <div>\n",
              "<style scoped>\n",
              "    .dataframe tbody tr th:only-of-type {\n",
              "        vertical-align: middle;\n",
              "    }\n",
              "\n",
              "    .dataframe tbody tr th {\n",
              "        vertical-align: top;\n",
              "    }\n",
              "\n",
              "    .dataframe thead th {\n",
              "        text-align: right;\n",
              "    }\n",
              "</style>\n",
              "<table border=\"1\" class=\"dataframe\">\n",
              "  <thead>\n",
              "    <tr style=\"text-align: right;\">\n",
              "      <th></th>\n",
              "      <th>count</th>\n",
              "      <th>mean</th>\n",
              "      <th>std</th>\n",
              "      <th>min</th>\n",
              "      <th>25%</th>\n",
              "      <th>50%</th>\n",
              "      <th>75%</th>\n",
              "      <th>max</th>\n",
              "    </tr>\n",
              "  </thead>\n",
              "  <tbody>\n",
              "    <tr>\n",
              "      <th>Pregnancies</th>\n",
              "      <td>768.0</td>\n",
              "      <td>3.845052</td>\n",
              "      <td>3.369578</td>\n",
              "      <td>0.000</td>\n",
              "      <td>1.00000</td>\n",
              "      <td>3.0000</td>\n",
              "      <td>6.00000</td>\n",
              "      <td>17.00</td>\n",
              "    </tr>\n",
              "    <tr>\n",
              "      <th>Glucose</th>\n",
              "      <td>768.0</td>\n",
              "      <td>120.894531</td>\n",
              "      <td>31.972618</td>\n",
              "      <td>0.000</td>\n",
              "      <td>99.00000</td>\n",
              "      <td>117.0000</td>\n",
              "      <td>140.25000</td>\n",
              "      <td>199.00</td>\n",
              "    </tr>\n",
              "    <tr>\n",
              "      <th>BloodPressure</th>\n",
              "      <td>768.0</td>\n",
              "      <td>69.105469</td>\n",
              "      <td>19.355807</td>\n",
              "      <td>0.000</td>\n",
              "      <td>62.00000</td>\n",
              "      <td>72.0000</td>\n",
              "      <td>80.00000</td>\n",
              "      <td>122.00</td>\n",
              "    </tr>\n",
              "    <tr>\n",
              "      <th>SkinThickness</th>\n",
              "      <td>768.0</td>\n",
              "      <td>20.536458</td>\n",
              "      <td>15.952218</td>\n",
              "      <td>0.000</td>\n",
              "      <td>0.00000</td>\n",
              "      <td>23.0000</td>\n",
              "      <td>32.00000</td>\n",
              "      <td>99.00</td>\n",
              "    </tr>\n",
              "    <tr>\n",
              "      <th>Insulin</th>\n",
              "      <td>768.0</td>\n",
              "      <td>79.799479</td>\n",
              "      <td>115.244002</td>\n",
              "      <td>0.000</td>\n",
              "      <td>0.00000</td>\n",
              "      <td>30.5000</td>\n",
              "      <td>127.25000</td>\n",
              "      <td>846.00</td>\n",
              "    </tr>\n",
              "    <tr>\n",
              "      <th>BMI</th>\n",
              "      <td>768.0</td>\n",
              "      <td>31.992578</td>\n",
              "      <td>7.884160</td>\n",
              "      <td>0.000</td>\n",
              "      <td>27.30000</td>\n",
              "      <td>32.0000</td>\n",
              "      <td>36.60000</td>\n",
              "      <td>67.10</td>\n",
              "    </tr>\n",
              "    <tr>\n",
              "      <th>DiabetesPedigreeFunction</th>\n",
              "      <td>768.0</td>\n",
              "      <td>0.471876</td>\n",
              "      <td>0.331329</td>\n",
              "      <td>0.078</td>\n",
              "      <td>0.24375</td>\n",
              "      <td>0.3725</td>\n",
              "      <td>0.62625</td>\n",
              "      <td>2.42</td>\n",
              "    </tr>\n",
              "    <tr>\n",
              "      <th>Age</th>\n",
              "      <td>768.0</td>\n",
              "      <td>33.240885</td>\n",
              "      <td>11.760232</td>\n",
              "      <td>21.000</td>\n",
              "      <td>24.00000</td>\n",
              "      <td>29.0000</td>\n",
              "      <td>41.00000</td>\n",
              "      <td>81.00</td>\n",
              "    </tr>\n",
              "    <tr>\n",
              "      <th>Outcome</th>\n",
              "      <td>768.0</td>\n",
              "      <td>0.348958</td>\n",
              "      <td>0.476951</td>\n",
              "      <td>0.000</td>\n",
              "      <td>0.00000</td>\n",
              "      <td>0.0000</td>\n",
              "      <td>1.00000</td>\n",
              "      <td>1.00</td>\n",
              "    </tr>\n",
              "  </tbody>\n",
              "</table>\n",
              "</div>\n",
              "      <button class=\"colab-df-convert\" onclick=\"convertToInteractive('df-1bf55a44-8017-4f5a-8739-aee33cb4abaa')\"\n",
              "              title=\"Convert this dataframe to an interactive table.\"\n",
              "              style=\"display:none;\">\n",
              "        \n",
              "  <svg xmlns=\"http://www.w3.org/2000/svg\" height=\"24px\"viewBox=\"0 0 24 24\"\n",
              "       width=\"24px\">\n",
              "    <path d=\"M0 0h24v24H0V0z\" fill=\"none\"/>\n",
              "    <path d=\"M18.56 5.44l.94 2.06.94-2.06 2.06-.94-2.06-.94-.94-2.06-.94 2.06-2.06.94zm-11 1L8.5 8.5l.94-2.06 2.06-.94-2.06-.94L8.5 2.5l-.94 2.06-2.06.94zm10 10l.94 2.06.94-2.06 2.06-.94-2.06-.94-.94-2.06-.94 2.06-2.06.94z\"/><path d=\"M17.41 7.96l-1.37-1.37c-.4-.4-.92-.59-1.43-.59-.52 0-1.04.2-1.43.59L10.3 9.45l-7.72 7.72c-.78.78-.78 2.05 0 2.83L4 21.41c.39.39.9.59 1.41.59.51 0 1.02-.2 1.41-.59l7.78-7.78 2.81-2.81c.8-.78.8-2.07 0-2.86zM5.41 20L4 18.59l7.72-7.72 1.47 1.35L5.41 20z\"/>\n",
              "  </svg>\n",
              "      </button>\n",
              "      \n",
              "  <style>\n",
              "    .colab-df-container {\n",
              "      display:flex;\n",
              "      flex-wrap:wrap;\n",
              "      gap: 12px;\n",
              "    }\n",
              "\n",
              "    .colab-df-convert {\n",
              "      background-color: #E8F0FE;\n",
              "      border: none;\n",
              "      border-radius: 50%;\n",
              "      cursor: pointer;\n",
              "      display: none;\n",
              "      fill: #1967D2;\n",
              "      height: 32px;\n",
              "      padding: 0 0 0 0;\n",
              "      width: 32px;\n",
              "    }\n",
              "\n",
              "    .colab-df-convert:hover {\n",
              "      background-color: #E2EBFA;\n",
              "      box-shadow: 0px 1px 2px rgba(60, 64, 67, 0.3), 0px 1px 3px 1px rgba(60, 64, 67, 0.15);\n",
              "      fill: #174EA6;\n",
              "    }\n",
              "\n",
              "    [theme=dark] .colab-df-convert {\n",
              "      background-color: #3B4455;\n",
              "      fill: #D2E3FC;\n",
              "    }\n",
              "\n",
              "    [theme=dark] .colab-df-convert:hover {\n",
              "      background-color: #434B5C;\n",
              "      box-shadow: 0px 1px 3px 1px rgba(0, 0, 0, 0.15);\n",
              "      filter: drop-shadow(0px 1px 2px rgba(0, 0, 0, 0.3));\n",
              "      fill: #FFFFFF;\n",
              "    }\n",
              "  </style>\n",
              "\n",
              "      <script>\n",
              "        const buttonEl =\n",
              "          document.querySelector('#df-1bf55a44-8017-4f5a-8739-aee33cb4abaa button.colab-df-convert');\n",
              "        buttonEl.style.display =\n",
              "          google.colab.kernel.accessAllowed ? 'block' : 'none';\n",
              "\n",
              "        async function convertToInteractive(key) {\n",
              "          const element = document.querySelector('#df-1bf55a44-8017-4f5a-8739-aee33cb4abaa');\n",
              "          const dataTable =\n",
              "            await google.colab.kernel.invokeFunction('convertToInteractive',\n",
              "                                                     [key], {});\n",
              "          if (!dataTable) return;\n",
              "\n",
              "          const docLinkHtml = 'Like what you see? Visit the ' +\n",
              "            '<a target=\"_blank\" href=https://colab.research.google.com/notebooks/data_table.ipynb>data table notebook</a>'\n",
              "            + ' to learn more about interactive tables.';\n",
              "          element.innerHTML = '';\n",
              "          dataTable['output_type'] = 'display_data';\n",
              "          await google.colab.output.renderOutput(dataTable, element);\n",
              "          const docLink = document.createElement('div');\n",
              "          docLink.innerHTML = docLinkHtml;\n",
              "          element.appendChild(docLink);\n",
              "        }\n",
              "      </script>\n",
              "    </div>\n",
              "  </div>\n",
              "  "
            ]
          },
          "metadata": {},
          "execution_count": 7
        }
      ],
      "source": [
        "# getting statical information about our dataset\n",
        "data.describe().T"
      ]
    },
    {
      "cell_type": "markdown",
      "id": "HuqbEgJ3jdtS",
      "metadata": {
        "id": "HuqbEgJ3jdtS"
      },
      "source": [
        "**Checking data before feature engineering**"
      ]
    },
    {
      "cell_type": "code",
      "execution_count": 8,
      "id": "rvly8hgLbOro",
      "metadata": {
        "colab": {
          "base_uri": "https://localhost:8080/"
        },
        "id": "rvly8hgLbOro",
        "outputId": "5f6c969d-1e46-4bf9-be67-79171843c60b"
      },
      "outputs": [
        {
          "output_type": "execute_result",
          "data": {
            "text/plain": [
              "Pregnancies                 0\n",
              "Glucose                     0\n",
              "BloodPressure               0\n",
              "SkinThickness               0\n",
              "Insulin                     0\n",
              "BMI                         0\n",
              "DiabetesPedigreeFunction    0\n",
              "Age                         0\n",
              "Outcome                     0\n",
              "dtype: int64"
            ]
          },
          "metadata": {},
          "execution_count": 8
        }
      ],
      "source": [
        "# checking for missing values\n",
        "data.isnull().sum()"
      ]
    },
    {
      "cell_type": "code",
      "execution_count": 9,
      "id": "Q3Xx5hRgbOvR",
      "metadata": {
        "id": "Q3Xx5hRgbOvR"
      },
      "outputs": [],
      "source": [
        "# getting numerical and categorical features form our dataset\n",
        "numerical_features = [feature for feature in data.columns if data[feature].dtypes not in ['O', 'o', 'object']]\n",
        "categorical_fatures = [feature for feature in data.columns if data[feature].dtypes in ['O', 'o', 'object']]"
      ]
    },
    {
      "cell_type": "code",
      "execution_count": 10,
      "id": "wtPoiSdIbOzn",
      "metadata": {
        "colab": {
          "base_uri": "https://localhost:8080/"
        },
        "id": "wtPoiSdIbOzn",
        "outputId": "555e1795-c8d6-40d5-c900-b2e727fdd432"
      },
      "outputs": [
        {
          "output_type": "execute_result",
          "data": {
            "text/plain": [
              "['Pregnancies',\n",
              " 'Glucose',\n",
              " 'BloodPressure',\n",
              " 'SkinThickness',\n",
              " 'Insulin',\n",
              " 'BMI',\n",
              " 'DiabetesPedigreeFunction',\n",
              " 'Age',\n",
              " 'Outcome']"
            ]
          },
          "metadata": {},
          "execution_count": 10
        }
      ],
      "source": [
        "numerical_features"
      ]
    },
    {
      "cell_type": "code",
      "execution_count": 11,
      "id": "3-qHSG7QbEMv",
      "metadata": {
        "colab": {
          "base_uri": "https://localhost:8080/"
        },
        "id": "3-qHSG7QbEMv",
        "outputId": "d8da3180-5028-427a-825b-4b7d9fc78e26"
      },
      "outputs": [
        {
          "output_type": "execute_result",
          "data": {
            "text/plain": [
              "[]"
            ]
          },
          "metadata": {},
          "execution_count": 11
        }
      ],
      "source": [
        "categorical_fatures"
      ]
    },
    {
      "cell_type": "code",
      "execution_count": 12,
      "id": "p2XHmsuAb513",
      "metadata": {
        "colab": {
          "base_uri": "https://localhost:8080/",
          "height": 388
        },
        "id": "p2XHmsuAb513",
        "outputId": "ccf7f72c-7ea5-47be-c57b-c5ef5f6932ba"
      },
      "outputs": [
        {
          "output_type": "display_data",
          "data": {
            "text/plain": [
              "<Figure size 800x400 with 1 Axes>"
            ],
            "image/png": "[encoded data removed]"
          },
          "metadata": {}
        }
      ],
      "source": [
        "# plot a counter plot to better understand our target feature\n",
        "plt.figure(figsize=(8,4))\n",
        "sns.countplot(x = 'Outcome',data = data)\n",
        "plt.show()"
      ]
    },
    {
      "cell_type": "code",
      "execution_count": 13,
      "id": "ZD9nlUD9b56v",
      "metadata": {
        "colab": {
          "base_uri": "https://localhost:8080/",
          "height": 564
        },
        "id": "ZD9nlUD9b56v",
        "outputId": "3d907d5c-42c2-4856-f498-7e38fb44ffbb"
      },
      "outputs": [
        {
          "output_type": "display_data",
          "data": {
            "text/plain": [
              "<Figure size 2000x600 with 2 Axes>"
            ],
            "image/png": "[encoded data removed]"
          },
          "metadata": {}
        }
      ],
      "source": [
        "# Pregnancies\n",
        "plt.figure(figsize=(20,6))\n",
        "\n",
        "plt.subplot(1,3,1)\n",
        "plt.title(\"Counter Plot\")\n",
        "sns.countplot(x = 'Pregnancies',data = data)\n",
        "\n",
        "\n",
        "plt.subplot(1,3,2)\n",
        "plt.title('Box Plot')\n",
        "sns.boxplot(y=data[\"Pregnancies\"])\n",
        "\n",
        "plt.show()"
      ]
    },
    {
      "cell_type": "code",
      "execution_count": 14,
      "id": "mFto_viLb5-3",
      "metadata": {
        "colab": {
          "base_uri": "https://localhost:8080/",
          "height": 564
        },
        "id": "mFto_viLb5-3",
        "outputId": "19231399-3da5-4b96-9811-05098036c873"
      },
      "outputs": [
        {
          "output_type": "display_data",
          "data": {
            "text/plain": [
              "<Figure size 2000x600 with 2 Axes>"
            ],
            "image/png": "[encoded data removed]"
          },
          "metadata": {}
        }
      ],
      "source": [
        "# Glucose\n",
        "plt.figure(figsize=(20,6))\n",
        "\n",
        "plt.subplot(1,3,1)\n",
        "plt.title(\"Counter Plot\")\n",
        "sns.countplot(x = 'Glucose',data = data)\n",
        "\n",
        "plt.subplot(1,3,2)\n",
        "plt.title('Box Plot')\n",
        "sns.boxplot(y=data[\"Glucose\"])\n",
        "\n",
        "plt.show()"
      ]
    },
    {
      "cell_type": "code",
      "execution_count": 15,
      "id": "lxpdTtRfb6Cb",
      "metadata": {
        "id": "lxpdTtRfb6Cb"
      },
      "outputs": [],
      "source": [
        "# Findin the correlation between each features\n",
        "corr = data.corr()\n",
        "# corr"
      ]
    },
    {
      "cell_type": "code",
      "execution_count": 16,
      "id": "r5VyQ51vdwoa",
      "metadata": {
        "colab": {
          "base_uri": "https://localhost:8080/",
          "height": 603
        },
        "id": "r5VyQ51vdwoa",
        "outputId": "97ca00f0-c094-46f7-e07c-acc81812fa3d"
      },
      "outputs": [
        {
          "output_type": "display_data",
          "data": {
            "text/plain": [
              "<Figure size 640x480 with 2 Axes>"
            ],
            "image/png": "[encoded data removed]"
          },
          "metadata": {}
        }
      ],
      "source": [
        "# Headmap\n",
        "sns.heatmap(corr, annot = True)\n",
        "plt.show()"
      ]
    },
    {
      "cell_type": "code",
      "execution_count": 16,
      "id": "mxdvpxdCdwtT",
      "metadata": {
        "id": "mxdvpxdCdwtT"
      },
      "outputs": [],
      "source": []
    },
    {
      "cell_type": "markdown",
      "id": "XjbJHzhKiRJ7",
      "metadata": {
        "id": "XjbJHzhKiRJ7"
      },
      "source": [
        "**Feture Engineering**"
      ]
    },
    {
      "cell_type": "code",
      "execution_count": 17,
      "id": "_YOVhAzqdww4",
      "metadata": {
        "id": "_YOVhAzqdww4"
      },
      "outputs": [],
      "source": [
        "# Replacing zero values with NaN\n",
        "dataset = data\n",
        "dataset[[\"Glucose\", \"BloodPressure\", \"SkinThickness\", \"Insulin\", \"BMI\"]] = dataset[[\"Glucose\", \"BloodPressure\", \"SkinThickness\", \"Insulin\", \"BMI\"]].replace(0, np.NaN)"
      ]
    },
    {
      "cell_type": "code",
      "execution_count": 18,
      "id": "zMKUjRGreGsx",
      "metadata": {
        "colab": {
          "base_uri": "https://localhost:8080/"
        },
        "id": "zMKUjRGreGsx",
        "outputId": "3505750b-a177-4057-b636-85d9c63e70ec"
      },
      "outputs": [
        {
          "output_type": "execute_result",
          "data": {
            "text/plain": [
              "Pregnancies                   0\n",
              "Glucose                       5\n",
              "BloodPressure                35\n",
              "SkinThickness               227\n",
              "Insulin                     374\n",
              "BMI                          11\n",
              "DiabetesPedigreeFunction      0\n",
              "Age                           0\n",
              "Outcome                       0\n",
              "dtype: int64"
            ]
          },
          "metadata": {},
          "execution_count": 18
        }
      ],
      "source": [
        "# Count of NaN\n",
        "dataset.isnull().sum()"
      ]
    },
    {
      "cell_type": "code",
      "execution_count": 19,
      "id": "3omEuVq9eGy4",
      "metadata": {
        "id": "3omEuVq9eGy4"
      },
      "outputs": [],
      "source": [
        "# Replacing NaN with mean values\n",
        "dataset[\"Glucose\"].fillna(dataset[\"Glucose\"].mean(), inplace = True)\n",
        "dataset[\"BloodPressure\"].fillna(dataset[\"BloodPressure\"].mean(), inplace = True)\n",
        "dataset[\"SkinThickness\"].fillna(dataset[\"SkinThickness\"].mean(), inplace = True)\n",
        "dataset[\"Insulin\"].fillna(dataset[\"Insulin\"].mean(), inplace = True)\n",
        "dataset[\"BMI\"].fillna(dataset[\"BMI\"].mean(), inplace = True)"
      ]
    },
    {
      "cell_type": "code",
      "execution_count": 20,
      "id": "dgHJ6hWUeG2x",
      "metadata": {
        "colab": {
          "base_uri": "https://localhost:8080/"
        },
        "id": "dgHJ6hWUeG2x",
        "outputId": "f75fb8c1-52f4-4fcf-c078-d45296950827"
      },
      "outputs": [
        {
          "output_type": "execute_result",
          "data": {
            "text/plain": [
              "Pregnancies                 0\n",
              "Glucose                     0\n",
              "BloodPressure               0\n",
              "SkinThickness               0\n",
              "Insulin                     0\n",
              "BMI                         0\n",
              "DiabetesPedigreeFunction    0\n",
              "Age                         0\n",
              "Outcome                     0\n",
              "dtype: int64"
            ]
          },
          "metadata": {},
          "execution_count": 20
        }
      ],
      "source": [
        "dataset.isnull().sum()"
      ]
    },
    {
      "cell_type": "code",
      "execution_count": 20,
      "id": "FnfoTms_b6F-",
      "metadata": {
        "id": "FnfoTms_b6F-"
      },
      "outputs": [],
      "source": []
    },
    {
      "cell_type": "markdown",
      "id": "dbbb09c9",
      "metadata": {
        "id": "dbbb09c9"
      },
      "source": [
        "#### Data Preprocessing"
      ]
    },
    {
      "cell_type": "code",
      "execution_count": 21,
      "id": "communist-expert",
      "metadata": {
        "id": "communist-expert"
      },
      "outputs": [],
      "source": [
        "#Train, test and validation spilt\n",
        "from sklearn.model_selection import train_test_split\n",
        "\n",
        "data_set_values=np.array(dataset)\n",
        "rows1,cols1=dataset.shape\n",
        "train, test = train_test_split(data_set_values, test_size = 0.2,random_state=6)\n"
      ]
    },
    {
      "cell_type": "code",
      "execution_count": 22,
      "id": "metallic-poison",
      "metadata": {
        "id": "metallic-poison"
      },
      "outputs": [],
      "source": [
        "#Spilt all sets and standarization\n",
        "train_x=train[:,:cols1-1]\n",
        "train_y=train[:,[cols1-1]]\n",
        "\n",
        "test_x=test[:,:cols1-1]\n",
        "test_y=test[:,[cols1-1]]\n",
        "\n",
        "total_X= np.vstack((train_x,test_x))\n",
        "mean_data = np.mean(total_X, axis=0)\n",
        "std_data = np.std(total_X, axis=0)\n",
        "train_x = (train_x - mean_data)/std_data\n",
        "test_x = (test_x - mean_data)/std_data\n",
        "# validate_x = (validate_x - mean_data)/std_data"
      ]
    },
    {
      "cell_type": "code",
      "execution_count": 23,
      "id": "cDFKWiZBXwXW",
      "metadata": {
        "colab": {
          "base_uri": "https://localhost:8080/"
        },
        "id": "cDFKWiZBXwXW",
        "outputId": "13a8ecf4-cea1-4794-dbdf-7d88db17ea91"
      },
      "outputs": [
        {
          "output_type": "stream",
          "name": "stdout",
          "text": [
            "2\n",
            "(614, 8)\n",
            "(154, 8)\n",
            "(154, 1)\n"
          ]
        }
      ],
      "source": [
        "print(train_x.ndim)\n",
        "print(train_x.shape)\n",
        "print(test_x.shape)\n",
        "print(test_y.shape)\n"
      ]
    },
    {
      "cell_type": "markdown",
      "id": "e4e39a4d",
      "metadata": {
        "id": "e4e39a4d"
      },
      "source": [
        "**Activation Functions**"
      ]
    },
    {
      "cell_type": "code",
      "execution_count": 24,
      "id": "b00db20b",
      "metadata": {
        "id": "b00db20b"
      },
      "outputs": [],
      "source": [
        "def sigmoidFunction(a):    #sigmod function\n",
        "    return 1/(1+np.exp(-a))\n",
        "\n",
        "def tanh(b):                #tanh function\n",
        "    t = (np.exp(b)-np.exp(-b))/(np.exp(b)+np.exp(-b))\n",
        "    return 1-t**2\n"
      ]
    },
    {
      "cell_type": "markdown",
      "id": "acd90265",
      "metadata": {
        "id": "acd90265"
      },
      "source": [
        "Log Loss"
      ]
    },
    {
      "cell_type": "code",
      "execution_count": 25,
      "id": "90e2cd29",
      "metadata": {
        "id": "90e2cd29"
      },
      "outputs": [],
      "source": [
        "def logLoss(m,Y,Z):\n",
        "    return (-1/m)*np.sum((Y*np.log(Z))+(1-Y)*np.log(1-Z))  # log loss function\n",
        "\n",
        " "
      ]
    },
    {
      "cell_type": "markdown",
      "id": "cb7d2a5b",
      "metadata": {
        "id": "cb7d2a5b"
      },
      "source": [
        "evalutions"
      ]
    },
    {
      "cell_type": "code",
      "execution_count": 26,
      "id": "c37c27b8",
      "metadata": {
        "id": "c37c27b8"
      },
      "outputs": [],
      "source": [
        "def evalutions(y_actual,y_hat):\n",
        "    true_pos = 0 #True Positives\n",
        "    false_pos = 0 # False Positives\n",
        "    true_neg = 0 # True Negatives\n",
        "    false_neg = 0 # False Negatives\n",
        "\n",
        "    for i in range(len(y_hat)): \n",
        "        if y_actual[i]==y_hat[i]==1:\n",
        "            true_pos += 1\n",
        "        if y_hat[i]==1 and y_actual[i]!=y_hat[i]:\n",
        "            false_pos += 1\n",
        "        if y_actual[i]==y_hat[i]==0:\n",
        "            true_neg += 1\n",
        "        if y_hat[i]==0 and y_actual[i]!=y_hat[i]:\n",
        "            false_neg += 1\n",
        "    #Precision \n",
        "    precision = true_pos / (false_pos + true_pos)\n",
        "    #Recall \n",
        "    recall = true_pos / (false_neg + true_pos)\n",
        "    #Accuracy\n",
        "    accuracy = ((true_pos + true_neg)/ (true_pos + false_neg + true_neg + false_pos)) * 100\n",
        "    #F1 Score\n",
        "    F1_Score = 2* precision * recall/ (precision + recall)\n",
        "    print(f'Accuracy: {round(accuracy,2)}%')\n",
        "    print(f'Precision:{round(precision,2)}')\n",
        "    print(f'Recall Score:{round(recall,2)}')\n",
        "    print(f'F1 Score:{round(F1_Score,2)}')"
      ]
    },
    {
      "cell_type": "markdown",
      "id": "673d7217",
      "metadata": {
        "id": "673d7217"
      },
      "source": [
        "Defining training model "
      ]
    },
    {
      "cell_type": "code",
      "execution_count": 27,
      "id": "prescription-namibia",
      "metadata": {
        "id": "prescription-namibia"
      },
      "outputs": [],
      "source": [
        "#model class\n",
        "class model_class:\n",
        "    def __init__(self,max_epoch,stepsLength):\n",
        "        self.stepsLength=stepsLength\n",
        "        self.max_epoch=max_epoch\n",
        "        self.bias=0.01\n",
        "        self.function_type=\"sigmoid\"  # default activiation function is sigmoid in my model\n",
        "\n",
        "\n",
        "    def train(self,X_data,Y,function_type=\"sigmoid\"):   # in the train dateset to training data , update weight and bias in each epoch\n",
        "\n",
        "        rows,cols=X_data.shape\n",
        "        self.m=rows\n",
        "        self.w=np.zeros((cols,1))\n",
        "        loss_list=[]\n",
        "        epoch_list=[]\n",
        "        for epoch in range(self.max_epoch+1):\n",
        "            \n",
        "            temp_y=np.dot(X_data,self.w)+self.bias\n",
        "            \n",
        "            # to check function type, and using related activiation function to deal with tempary result\n",
        "            if function_type==\"sigmoid\":\n",
        "              \n",
        "              temp_y_after = sigmoidFunction(temp_y)\n",
        "            elif function_type==\"Tanh\":\n",
        "              self.function_type=\"Tanh\"\n",
        "              temp_y_after = tanh(temp_y)\n",
        "            else:\n",
        "                print(\"the default activation function is sigmoid function\")\n",
        "                temp_y_after = sigmoidFunction(temp_y)\n",
        "\n",
        "\n",
        "\n",
        "            #calculating loss\n",
        "            loss = logLoss(self.m,Y,temp_y_after)\n",
        "            \n",
        "            if epoch%100==0:\n",
        "                epoch_list.append(epoch)\n",
        "                loss_list.append(loss)\n",
        "                print(\"loss\",loss)  # print temporary reslut to check loss changing \n",
        "  \n",
        "            # differiating the valuables\n",
        "            dw=(1/self.m)*np.dot(X_data.T,np.subtract(temp_y_after,Y))\n",
        "            db=(1/self.m)*np.sum(np.subtract(temp_y_after,Y))\n",
        "            \n",
        "            #updating weights and bais \n",
        "            self.w = self.w-self.stepsLength*dw\n",
        "            self.bias = self.bias - self.stepsLength*db\n",
        "        print(loss)\n",
        "        plt.plot(epoch_list, loss_list)\n",
        "        plt.title(\"loss \")\n",
        "        plt.xlabel(\"epoch\")\n",
        "        plt.ylabel(\"loss\")\n",
        "        plt.show()\n",
        "        return \n",
        "\n",
        "    #Predicting the result set\n",
        "    def predict(self,X_data):\n",
        "        temp_y=np.dot(X_data,self.w)+self.bias\n",
        "        if self.function_type==\"sigmoid\":\n",
        "              \n",
        "              temp_y_after = sigmoidFunction(temp_y)\n",
        "        elif self.function_type==\"Tanh\":\n",
        "              self.function_type=\"Tanh\"\n",
        "              temp_y_after = tanh(temp_y)\n",
        "        else:\n",
        "              print(\"the default activation function is sigmoid function\")\n",
        "              temp_y_after = sigmoidFunction(temp_y)\n",
        "\n",
        "     \n",
        "        results=[]\n",
        "        for value in temp_y_after:\n",
        "            if value<0.5:\n",
        "                results.append(0)\n",
        "            else:\n",
        "                results.append(1)\n",
        "        return results\n"
      ]
    },
    {
      "cell_type": "markdown",
      "id": "b9922c07",
      "metadata": {
        "id": "b9922c07"
      },
      "source": [
        "Training the Model "
      ]
    },
    {
      "cell_type": "code",
      "execution_count": 28,
      "id": "postal-spider",
      "metadata": {
        "id": "postal-spider",
        "colab": {
          "base_uri": "https://localhost:8080/",
          "height": 1000
        },
        "outputId": "c4e0c14c-3763-4e20-f519-107427dc5555"
      },
      "outputs": [
        {
          "output_type": "stream",
          "name": "stdout",
          "text": [
            "loss 0.6946254785534648\n",
            "loss 0.5967052209977006\n",
            "loss 0.5526851212384848\n",
            "loss 0.5289635333656768\n",
            "loss 0.514464719908266\n",
            "loss 0.5048397994943377\n",
            "loss 0.4980815085873179\n",
            "loss 0.49314191603656216\n",
            "loss 0.48942151341404616\n",
            "loss 0.486553043765275\n",
            "loss 0.4842994839131372\n",
            "loss 0.48250149690559474\n",
            "loss 0.48104840150878003\n",
            "loss 0.47986120580232616\n",
            "loss 0.47888222970241257\n",
            "loss 0.4780685165729885\n",
            "loss 0.4773875187127627\n",
            "loss 0.4768141967280253\n",
            "loss 0.47632902473086236\n",
            "loss 0.47591659087425825\n",
            "loss 0.4755645979241187\n",
            "loss 0.47526313793530967\n",
            "loss 0.4750041580523554\n",
            "loss 0.4747810617037868\n",
            "loss 0.4745884071142613\n",
            "loss 0.4744216767142433\n",
            "loss 0.4742770988521197\n",
            "loss 0.47415150854749905\n",
            "loss 0.4740422377111592\n",
            "loss 0.47394702783837267\n",
            "loss 0.4738639600114537\n",
            "loss 0.473791398358246\n",
            "loss 0.47372794406282376\n",
            "loss 0.4736723977195455\n",
            "loss 0.47362372833503885\n",
            "loss 0.47358104766563036\n",
            "loss 0.47354358886587955\n",
            "loss 0.47351068864257534\n",
            "loss 0.4734817722758934\n",
            "loss 0.47345634099848766\n",
            "loss 0.4734339613235901\n",
            "loss 0.473414255991708\n",
            "loss 0.47339689626739645\n",
            "loss 0.47338159536668667\n",
            "loss 0.4733681028349573\n",
            "loss 0.47335619972653054\n",
            "loss 0.4733456944627135\n",
            "loss 0.47333641926566766\n",
            "loss 0.4733282270823594\n",
            "loss 0.47332098892667024\n",
            "loss 0.4733145915791556\n",
            "0.4733145915791556\n"
          ]
        },
        {
          "output_type": "display_data",
          "data": {
            "text/plain": [
              "<Figure size 640x480 with 1 Axes>"
            ],
            "image/png": "[encoded data removed]"
          },
          "metadata": {}
        }
      ],
      "source": [
        "sig_model=model_class(max_epoch=5000,stepsLength=0.01)\n",
        "sig_model.train(train_x,train_y,'sigmoid')"
      ]
    },
    {
      "cell_type": "markdown",
      "id": "b6596b3c",
      "metadata": {
        "id": "b6596b3c"
      },
      "source": [
        "evaluting the model by running in test data"
      ]
    },
    {
      "cell_type": "code",
      "execution_count": 29,
      "id": "accepting-canal",
      "metadata": {
        "id": "accepting-canal"
      },
      "outputs": [],
      "source": [
        "y_hat = sig_model.predict(test_x)"
      ]
    },
    {
      "cell_type": "code",
      "execution_count": 30,
      "id": "D8AN9NWW4HDE",
      "metadata": {
        "colab": {
          "base_uri": "https://localhost:8080/",
          "height": 564
        },
        "id": "D8AN9NWW4HDE",
        "outputId": "b6b2af4a-f0fd-4f03-af05-af042018894f"
      },
      "outputs": [
        {
          "output_type": "display_data",
          "data": {
            "text/plain": [
              "<Figure size 600x600 with 1 Axes>"
            ],
            "image/png": "[encoded data removed]"
          },
          "metadata": {}
        }
      ],
      "source": [
        "# confusion matrix show the results\n",
        "from sklearn.metrics import confusion_matrix\n",
        "\n",
        "cm = confusion_matrix(test_y,y_hat, labels=[0, 1])\n",
        "\n",
        "plt.figure(figsize=(6,6))\n",
        "sns.heatmap(cm, annot=True, fmt='g', vmin=0, cmap='Greens', cbar=False)\n",
        "plt.xticks(ticks=[0.5,1.5])\n",
        "plt.yticks(ticks=[0.5,1.5])\n",
        "plt.xlabel(\"Predicted\")\n",
        "plt.ylabel(\"Actual\")\n",
        "plt.title(\"Confusion Matrix\")\n",
        "plt.show()"
      ]
    },
    {
      "cell_type": "code",
      "execution_count": 31,
      "id": "d5a9b5d1",
      "metadata": {
        "colab": {
          "base_uri": "https://localhost:8080/"
        },
        "id": "d5a9b5d1",
        "outputId": "e2d5abd7-edec-4ca6-a795-d2fccfbfe596"
      },
      "outputs": [
        {
          "output_type": "stream",
          "name": "stdout",
          "text": [
            "Accuracy: 79.87%\n",
            "Precision:0.72\n",
            "Recall Score:0.65\n",
            "F1 Score:0.68\n"
          ]
        }
      ],
      "source": [
        "# getting F1 Score and others\n",
        "evalutions(test_y,y_hat)"
      ]
    },
    {
      "cell_type": "markdown",
      "id": "a30f689c",
      "metadata": {
        "id": "a30f689c"
      },
      "source": [
        "Using Tanh Activation Function"
      ]
    },
    {
      "cell_type": "markdown",
      "id": "Dk_v_iMxPRAj",
      "metadata": {
        "id": "Dk_v_iMxPRAj"
      },
      "source": [
        "Training the Model"
      ]
    },
    {
      "cell_type": "code",
      "execution_count": 32,
      "id": "gv3GWcA9PRAj",
      "metadata": {
        "id": "gv3GWcA9PRAj",
        "colab": {
          "base_uri": "https://localhost:8080/",
          "height": 1000
        },
        "outputId": "dfcb24e2-8a0f-43b5-b1f0-fb810f30add7"
      },
      "outputs": [
        {
          "output_type": "stream",
          "name": "stdout",
          "text": [
            "loss 5.955298523390626\n",
            "loss 0.9677643843364399\n",
            "loss 0.6190154156649115\n",
            "loss 0.5354013698758672\n",
            "loss 0.5067541302492423\n",
            "loss 0.49549991847585556\n",
            "loss 0.4902803767241394\n",
            "loss 0.4877401873237722\n",
            "loss 0.4865721393993882\n",
            "loss 0.48617471236284043\n",
            "loss 0.4862470164376629\n",
            "loss 0.48663081644973916\n",
            "loss 0.48724432313400046\n",
            "loss 0.48805466255436153\n",
            "loss 0.48907158062996936\n",
            "loss 0.49036432377609884\n",
            "loss 0.4921430461753252\n",
            "loss 0.49525197074656296\n",
            "loss 0.4987974998444643\n",
            "loss 0.49404452000287563\n",
            "loss 0.4924393351461642\n",
            "loss 0.4915283285902886\n",
            "loss 0.49092754534515987\n",
            "loss 0.4905005271972028\n",
            "loss 0.49018295770789827\n",
            "loss 0.48993949688111516\n",
            "loss 0.48974873970879457\n",
            "loss 0.4895968163999106\n",
            "loss 0.4894742833702384\n",
            "loss 0.4893744622073301\n",
            "loss 0.489292486332986\n",
            "loss 0.4892247223860935\n",
            "loss 0.48916840293188596\n",
            "loss 0.48912138457326526\n",
            "loss 0.48908198366059047\n",
            "loss 0.48904886173413986\n",
            "loss 0.4890209438059913\n",
            "loss 0.4889973588925265\n",
            "loss 0.48897739596702466\n",
            "loss 0.488960470814603\n",
            "loss 0.4889461007349426\n",
            "loss 0.48893388498665574\n",
            "loss 0.4889234894951892\n",
            "loss 0.48891463477016256\n",
            "loss 0.48890708626916474\n",
            "loss 0.4889006466481718\n",
            "loss 0.48889514948248464\n",
            "loss 0.4888904541451894\n",
            "loss 0.488886441605017\n",
            "loss 0.48888301096050885\n",
            "loss 0.4888800765682863\n",
            "0.4888800765682863\n"
          ]
        },
        {
          "output_type": "display_data",
          "data": {
            "text/plain": [
              "<Figure size 640x480 with 1 Axes>"
            ],
            "image/png": "[encoded data removed]"
          },
          "metadata": {}
        }
      ],
      "source": [
        "tanh_model=model_class(max_epoch=5000,stepsLength=0.01)\n",
        "tanh_model.train(train_x,train_y,'Tanh')"
      ]
    },
    {
      "cell_type": "markdown",
      "id": "0RXpXtXtPRAk",
      "metadata": {
        "id": "0RXpXtXtPRAk"
      },
      "source": [
        "evaluting model"
      ]
    },
    {
      "cell_type": "code",
      "execution_count": 33,
      "id": "c8sw5fQUPRAk",
      "metadata": {
        "id": "c8sw5fQUPRAk"
      },
      "outputs": [],
      "source": [
        "y_hat = tanh_model.predict(test_x)"
      ]
    },
    {
      "cell_type": "code",
      "execution_count": 34,
      "id": "S6_Khldn5M18",
      "metadata": {
        "colab": {
          "base_uri": "https://localhost:8080/",
          "height": 564
        },
        "id": "S6_Khldn5M18",
        "outputId": "bbb9ee1c-1ca3-469f-dc0c-42ba384850f9"
      },
      "outputs": [
        {
          "output_type": "display_data",
          "data": {
            "text/plain": [
              "<Figure size 600x600 with 1 Axes>"
            ],
            "image/png": "[encoded data removed]"
          },
          "metadata": {}
        }
      ],
      "source": [
        "# confusion matrix show the results\n",
        "from sklearn.metrics import confusion_matrix\n",
        "\n",
        "cm = confusion_matrix(test_y,y_hat, labels=[0, 1])\n",
        "\n",
        "plt.figure(figsize=(6,6))\n",
        "sns.heatmap(cm, annot=True, fmt='g', vmin=0, cmap='Greens', cbar=False)\n",
        "plt.xticks(ticks=[0.5,1.5])\n",
        "plt.yticks(ticks=[0.5,1.5])\n",
        "plt.xlabel(\"Predicted\")\n",
        "plt.ylabel(\"Actual\")\n",
        "plt.title(\"Confusion Matrix\")\n",
        "plt.show()"
      ]
    },
    {
      "cell_type": "code",
      "execution_count": 35,
      "id": "SSjrtTooPRAk",
      "metadata": {
        "colab": {
          "base_uri": "https://localhost:8080/"
        },
        "id": "SSjrtTooPRAk",
        "outputId": "a51e3d76-f4e3-47e2-c024-1afc178a4b4c"
      },
      "outputs": [
        {
          "output_type": "stream",
          "name": "stdout",
          "text": [
            "Accuracy: 78.57%\n",
            "Precision:0.71\n",
            "Recall Score:0.59\n",
            "F1 Score:0.65\n"
          ]
        }
      ],
      "source": [
        "evalutions(test_y,y_hat)"
      ]
    },
    {
      "cell_type": "code",
      "execution_count": null,
      "id": "oFqhAFHRhKtG",
      "metadata": {
        "id": "oFqhAFHRhKtG"
      },
      "outputs": [],
      "source": []
    }
  ],
  "metadata": {
    "colab": {
      "provenance": [],
      "include_colab_link": true
    },
    "kernelspec": {
      "display_name": "Python 3.9.12 ('base')",
      "language": "python",
      "name": "python3"
    },
    "language_info": {
      "codemirror_mode": {
        "name": "ipython",
        "version": 3
      },
      "file_extension": ".py",
      "mimetype": "text/x-python",
      "name": "python",
      "nbconvert_exporter": "python",
      "pygments_lexer": "ipython3",
      "version": "3.9.12"
    },
    "vscode": {
      "interpreter": {
        "hash": "ddcff88f20c5f9bf7718f446bdd3a77192143b2f59e73a09311788c03dde77eb"
      }
    }
  },
  "nbformat": 4,
  "nbformat_minor": 5
}